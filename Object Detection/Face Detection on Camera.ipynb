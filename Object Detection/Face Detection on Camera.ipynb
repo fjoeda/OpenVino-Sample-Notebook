{
 "metadata": {
  "language_info": {
   "codemirror_mode": {
    "name": "ipython",
    "version": 3
   },
   "file_extension": ".py",
   "mimetype": "text/x-python",
   "name": "python",
   "nbconvert_exporter": "python",
   "pygments_lexer": "ipython3",
   "version": "3.8.10"
  },
  "orig_nbformat": 4,
  "kernelspec": {
   "name": "python3",
   "display_name": "Python 3.8.10 64-bit"
  },
  "interpreter": {
   "hash": "95ab7303ed2746327945aa376054eddca8c4eca362915ff95db932dbe7e7ee41"
  }
 },
 "nbformat": 4,
 "nbformat_minor": 2,
 "cells": [
  {
   "cell_type": "code",
   "execution_count": 1,
   "metadata": {},
   "outputs": [],
   "source": [
    "# import the libraries\n",
    "import cv2\n",
    "from openvino.inference_engine import IECore\n",
    "import numpy as np\n",
    "\n",
    "# Load the model\n",
    "ie = IECore()\n",
    "\n",
    "net = ie.read_network(\n",
    "    model = \"face-detection-adas-0001.xml\",\n",
    "    weights = \"face-detection-adas-0001.bin\"\n",
    ")\n",
    "\n",
    "model = ie.load_network(net,'CPU')\n",
    "\n",
    "# initiate camera object\n",
    "cam = cv2.VideoCapture(0)\n",
    "\n",
    "# do the loop\n",
    "while True:\n",
    "    # read the frame\n",
    "    ret,frame = cam.read()\n",
    "\n",
    "    # resize and reshape the image\n",
    "    resized = cv2.resize(frame,(672,384))\n",
    "    input_data = np.expand_dims(np.transpose(resized,(2,0,1)),0).astype(np.float32)\n",
    "\n",
    "    # do the inference and draw the bounding box\n",
    "    result = model.infer({'data':input_data})\n",
    "    for i in result['detection_out'][0][0]:\n",
    "        if i[2]>0.7:\n",
    "            h,w,c = frame.shape\n",
    "            cv2.rectangle(\n",
    "                frame,\n",
    "                (int(i[3]*w),int(i[4]*h)),\n",
    "                (int(i[5]*w),int(i[6]*h)),\n",
    "                (0,255,0),4\n",
    "            )\n",
    "    # show the image in a windows\n",
    "    cv2.imshow('Face Detection (Press q to exit)',frame)\n",
    "\n",
    "    if cv2.waitKey(1) & 0xFF == ord('q'):\n",
    "        break\n",
    "\n",
    "# destroy the camera object and close all windows\n",
    "cam.release()\n",
    "cv2.destroyAllWindows()"
   ]
  },
  {
   "cell_type": "code",
   "execution_count": null,
   "metadata": {},
   "outputs": [],
   "source": []
  }
 ]
}